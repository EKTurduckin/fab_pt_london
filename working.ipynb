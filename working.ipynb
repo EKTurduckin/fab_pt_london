{
 "cells": [
  {
   "cell_type": "code",
   "execution_count": null,
   "metadata": {},
   "outputs": [],
   "source": [
    "import pandas as pd\n",
    "import requests\n",
    "import sqlite3\n",
    "from bs4 import BeautifulSoup"
   ]
  },
  {
   "cell_type": "code",
   "execution_count": 57,
   "metadata": {},
   "outputs": [],
   "source": [
    "pt_london_2025_invited = \"https://fabtcg.com/en/organised-play/2025/pro-tour-london/pro-tour-london-invited-players/\"\n",
    "pt_london_2025 = \"https://fabtcg.com/en/coverage/pro-tour-london/decklist/{}/\""
   ]
  },
  {
   "cell_type": "code",
   "execution_count": 95,
   "metadata": {},
   "outputs": [],
   "source": [
    "def get_player_list(url):\n",
    "    page = requests.get(url)\n",
    "    soup = BeautifulSoup(page.text, \"html\")\n",
    "\n",
    "    player_list_table = soup.find_all(\"table\")\n",
    "\n",
    "    table_row = player_list_table[1].find_all(\"tr\")\n",
    "\n",
    "    return [data.text.strip() for data in (row_data[0] for row_data in (row.find_all(\"td\") for row in table_row[1:]))]\n",
    "\n",
    "def get_decklist(url):\n",
    "    page = requests.get(url)\n",
    "    soup = BeautifulSoup(page.text, \"html\")\n",
    "\n",
    "    decklist = [data.text.strip() for data in soup.find_all(\"td\")]\n",
    "\n",
    "    del decklist[1:4]    \n",
    "\n",
    "    return decklist\n"
   ]
  },
  {
   "cell_type": "code",
   "execution_count": 96,
   "metadata": {},
   "outputs": [],
   "source": [
    "player_list = get_player_list(pt_london_2025_invited)"
   ]
  },
  {
   "cell_type": "code",
   "execution_count": null,
   "metadata": {},
   "outputs": [],
   "source": [
    "tournament_lists = [get_decklist(pt_london_2025.format(player_id)) for player_id in player_list]"
   ]
  },
  {
   "cell_type": "code",
   "execution_count": null,
   "metadata": {},
   "outputs": [],
   "source": [
    "tournament_lists_df = pd.DataFrame.from_records(tournament_lists)\n",
    "tournament_lists_df.to_csv(\"tournament_lists.csv\")"
   ]
  }
 ],
 "metadata": {
  "kernelspec": {
   "display_name": "Python 3",
   "language": "python",
   "name": "python3"
  },
  "language_info": {
   "codemirror_mode": {
    "name": "ipython",
    "version": 3
   },
   "file_extension": ".py",
   "mimetype": "text/x-python",
   "name": "python",
   "nbconvert_exporter": "python",
   "pygments_lexer": "ipython3",
   "version": "3.11.1"
  }
 },
 "nbformat": 4,
 "nbformat_minor": 2
}
