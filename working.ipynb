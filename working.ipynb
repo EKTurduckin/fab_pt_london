{
 "cells": [
  {
   "cell_type": "code",
   "execution_count": 295,
   "metadata": {},
   "outputs": [],
   "source": [
    "import pandas as pd\n",
    "import requests\n",
    "import sqlite3\n",
    "import re\n",
    "from bs4 import BeautifulSoup\n",
    "from pathlib import Path"
   ]
  },
  {
   "cell_type": "code",
   "execution_count": 281,
   "metadata": {},
   "outputs": [],
   "source": [
    "pt_london_2025_invited = \"https://fabtcg.com/en/coverage/pro-tour-london/pairings/1/\"\n",
    "pt_london_2025_decklists = \"https://fabtcg.com/en/coverage/pro-tour-london/decklist/{}/\"\n",
    "pt_london_2024_results = \"https://fabtcg.com/en/coverage/pro-tour-london/results/{}/\""
   ]
  },
  {
   "cell_type": "code",
   "execution_count": 291,
   "metadata": {},
   "outputs": [],
   "source": [
    "def get_player_list(url):\n",
    "    page = requests.get(url)\n",
    "    soup = BeautifulSoup(page.text, \"html\")\n",
    "\n",
    "    pairing = soup.find_all(\"div\", {\"class\":\"tournament-coverage__player-hero-and-deck\"})\n",
    "    decklist_urls = [re.search(r\"\\/decklist\\/(\\d+)\", url) for url in (str(url) for url in (player.find(\"a\") for player in pairing))]\n",
    "\n",
    "    output = [url.group(1) for url in decklist_urls if url is not None]\n",
    "\n",
    "    return output\n",
    "\n",
    "\n",
    "def get_decklist(url):\n",
    "    page = requests.get(url)\n",
    "    soup = BeautifulSoup(page.text, \"html\")\n",
    "\n",
    "    decklist = [data.text.strip() for data in soup.find_all(\"td\")]\n",
    "\n",
    "    return decklist\n",
    "\n",
    "def decklist_to_df(decklists):\n",
    "    decklists = pd.DataFrame.from_records(decklists)\n",
    "    decklists.index = [re.search(r\"\\((\\d+)\", name).group(1) for name in decklists[0]]\n",
    "\n",
    "    participants = decklists.iloc[:,0:5].copy()\n",
    "    participants = participants.rename(columns={0:\"Name\", 1:\"Event Date\", 2:\"Event Name\", 3:\"Format\", 4:\"Hero\"})\n",
    "\n",
    "    decklists = decklists.drop([0,1,2,3,4], axis=1)\n",
    "\n",
    "    decklists = pd.melt(decklists, ignore_index=False, value_name=\"import name\")[\"import name\"].dropna().to_frame()\n",
    "\n",
    "    decklists[[\"Copies\",\"Card\"]] = decklists[\"import name\"].str.split(\" x \", expand=True)\n",
    "    decklists = decklists.drop(\"import name\", axis=1)\n",
    "\n",
    "    return participants, decklists\n",
    "\n",
    "def get_wins(url):\n",
    "\n",
    "    win_tracker = {}\n",
    "\n",
    "    def get_round_results(url):\n",
    "        output = []\n",
    "\n",
    "        page = requests.get(url)\n",
    "        soup = BeautifulSoup(page.text, \"html\")\n",
    "\n",
    "        for i in range(2):\n",
    "            player = soup.find_all(\"div\", {\"class\":f\"tournament-coverage__row tournament-coverage__row--results tournament-coverage__row--winner-{i+1}\"})\n",
    "\n",
    "            winner = [re.search(r\"(\\d+)\", str(y.find(\"a\"))).group(1) for y in (x.find_all(\"div\",{\"class\":\"tournament-coverage__player-hero-and-deck\"})[i] for x in player)]\n",
    "\n",
    "            output.extend(winner) \n",
    "\n",
    "\n",
    "        return output\n",
    "\n",
    "    for i in range(18):\n",
    "        if not 5 <= i <= 11:\n",
    "            ids = get_round_results(url.format(i+1))\n",
    "\n",
    "            for player in ids:\n",
    "                if player not in win_tracker:\n",
    "                    win_tracker[player] = 1\n",
    "                else:\n",
    "                    win_tracker[player] += 1\n",
    "\n",
    "    return pd.DataFrame.from_dict(win_tracker,orient=\"index\", columns=[\"wins\"])"
   ]
  },
  {
   "cell_type": "code",
   "execution_count": null,
   "metadata": {},
   "outputs": [],
   "source": [
    "player_list = get_player_list(pt_london_2025_invited)\n",
    "tournament_lists = [get_decklist(pt_london_2025_decklists.format(player_id)) for player_id in player_list]"
   ]
  },
  {
   "cell_type": "code",
   "execution_count": 299,
   "metadata": {},
   "outputs": [],
   "source": [
    "tournament_df = decklist_to_df(tournament_lists)\n",
    "\n",
    "participants = tournament_df[0]\n",
    "decklists = tournament_df[1]\n",
    "wins = get_wins(pt_london_2024_results)"
   ]
  },
  {
   "cell_type": "code",
   "execution_count": null,
   "metadata": {},
   "outputs": [],
   "source": [
    ">>> df2 = df1.copy()\n",
    ">>> with pd.ExcelWriter('output.xlsx') as writer:  \n",
    "...     df1.to_excel(writer, sheet_name='Sheet_name_1')\n",
    "...     df2.to_excel(writer, sheet_name='Sheet_name_2')"
   ]
  },
  {
   "cell_type": "code",
   "execution_count": 301,
   "metadata": {},
   "outputs": [],
   "source": [
    "excel_path = Path(\"PT London.xlsx\")\n",
    "\n",
    "with pd.ExcelWriter(excel_path) as writer:\n",
    "    participants.to_excel(writer, sheet_name=\"participants\")\n",
    "    decklists.to_excel(writer, sheet_name=\"decklists\")\n",
    "    wins.to_excel(writer, sheet_name=\"wins\")"
   ]
  }
 ],
 "metadata": {
  "kernelspec": {
   "display_name": "Python 3",
   "language": "python",
   "name": "python3"
  },
  "language_info": {
   "codemirror_mode": {
    "name": "ipython",
    "version": 3
   },
   "file_extension": ".py",
   "mimetype": "text/x-python",
   "name": "python",
   "nbconvert_exporter": "python",
   "pygments_lexer": "ipython3",
   "version": "3.11.1"
  }
 },
 "nbformat": 4,
 "nbformat_minor": 2
}
