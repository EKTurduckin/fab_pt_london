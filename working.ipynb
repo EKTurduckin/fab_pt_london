{
 "cells": [
  {
   "cell_type": "code",
   "execution_count": 188,
   "metadata": {},
   "outputs": [
    {
     "ename": "ImportError",
     "evalue": "cannot import name 'str' from 'typing' (c:\\Users\\kinneyemry\\AppData\\Local\\Programs\\Python\\Python311\\Lib\\typing.py)",
     "output_type": "error",
     "traceback": [
      "\u001b[1;31m---------------------------------------------------------------------------\u001b[0m",
      "\u001b[1;31mImportError\u001b[0m                               Traceback (most recent call last)",
      "Cell \u001b[1;32mIn[188], line 7\u001b[0m\n\u001b[0;32m      5\u001b[0m \u001b[38;5;28;01mfrom\u001b[39;00m \u001b[38;5;21;01mbs4\u001b[39;00m \u001b[38;5;28;01mimport\u001b[39;00m BeautifulSoup\n\u001b[0;32m      6\u001b[0m \u001b[38;5;28;01mfrom\u001b[39;00m \u001b[38;5;21;01mpathlib\u001b[39;00m \u001b[38;5;28;01mimport\u001b[39;00m Path\n\u001b[1;32m----> 7\u001b[0m \u001b[38;5;28;01mfrom\u001b[39;00m \u001b[38;5;21;01mtyping\u001b[39;00m \u001b[38;5;28;01mimport\u001b[39;00m List, \u001b[38;5;28mstr\u001b[39m\n",
      "\u001b[1;31mImportError\u001b[0m: cannot import name 'str' from 'typing' (c:\\Users\\kinneyemry\\AppData\\Local\\Programs\\Python\\Python311\\Lib\\typing.py)"
     ]
    }
   ],
   "source": [
    "import pandas as pd\n",
    "import requests\n",
    "import sqlite3\n",
    "import re\n",
    "from bs4 import BeautifulSoup\n",
    "from pathlib import Path\n",
    "from typing import List, str"
   ]
  },
  {
   "cell_type": "code",
   "execution_count": null,
   "metadata": {},
   "outputs": [],
   "source": [
    "pt_london_2025_invited = \"https://fabtcg.com/en/coverage/pro-tour-london/pairings/1/\"\n",
    "pt_london_2025_decklists = \"https://fabtcg.com/en/coverage/pro-tour-london/decklist/{}/\"\n",
    "pt_london_2024_results = \"https://fabtcg.com/en/coverage/pro-tour-london/results/{}/\""
   ]
  },
  {
   "cell_type": "code",
   "execution_count": 199,
   "metadata": {},
   "outputs": [],
   "source": [
    "def get_pairings(url, rounds_to_be_considered):\n",
    "    pairings = {}\n",
    "\n",
    "    for round_number in rounds_to_be_considered:\n",
    "        print(f\"ROUND {round_number}\")\n",
    "\n",
    "        if f\"round {round_number}\" not in pairings:\n",
    "            pairings[f\"round {round_number}\"] = {}\n",
    "\n",
    "        print(f\"FETCHING FROM {url.format(round_number)}\")\n",
    "\n",
    "        page = requests.get(url.format(round_number))\n",
    "        soup = BeautifulSoup(page.text, \"html\")\n",
    "\n",
    "        player = soup.find_all(\"div\", {\"class\":\"tournament-coverage__player-hero-and-deck\"})\n",
    "        winner = soup.find_all(\"div\", {\"class\":\"tournament-coverage__result\"})\n",
    "            \n",
    "        for idx, id in enumerate(player):\n",
    "            table = int(idx / 2)\n",
    "            player_number = (idx % 2)\n",
    "            print(f\"TABLE PAIRING {table}\") \n",
    "\n",
    "            if f\"table {table}\" not in pairings[f\"round {round_number}\"]:\n",
    "                pairings[f\"round {round_number}\"][f\"table {table}\"] = {\"Player 1\":None, \"Player 2\":None, \"Winner\":None}    \n",
    "\n",
    "            gem_id = id.find(\"a\", href = True)\n",
    "\n",
    "            if gem_id:\n",
    "                gem_id = re.search(r\"\\/(\\d+)\", gem_id[\"href\"]).group(1)\n",
    "\n",
    "            if player_number == 0:\n",
    "                pairings[f\"round {round_number}\"][f\"table {table}\"][\"Player 1\"] = gem_id\n",
    "            if player_number == 1:\n",
    "                pairings[f\"round {round_number}\"][f\"table {table}\"][\"Player 2\"] = gem_id\n",
    "\n",
    "        for idx, id in enumerate(winner):\n",
    "            print(f\"TABLE {idx} WINNER\")\n",
    "\n",
    "            if re.search(r\"(\\d)\", id.text):\n",
    "                pairings[f\"round {round_number}\"][f\"table {idx}\"][\"Winner\"] = int(re.search(r\"(\\d)\", id.text).group(1))\n",
    "            else:\n",
    "                pairings[f\"round {round_number}\"][f\"table {idx}\"][\"Winner\"] = 0\n",
    "\n",
    "        for pair in pairings[f\"round {round_number}\"].values():\n",
    "            if pair[\"Winner\"] == 1:\n",
    "                pair[\"Winner\"] = pair[\"Player 1\"]\n",
    "            elif pair[\"Winner\"] == 2:\n",
    "                pair[\"Winner\"] = pair[\"Player 2\"]\n",
    "            else:\n",
    "                pair[\"Winner\"] = \"Draw\"\n",
    "\n",
    "    return pairings\n",
    "\n",
    "def get_decklist(pairings, decklist_url):\n",
    "    output = []\n",
    "    participants = []\n",
    "\n",
    "    for round in pairings.values():\n",
    "        for table in round.values():\n",
    "            if table[\"Player 1\"] not in participants:\n",
    "                participants.append(table[\"Player 1\"])\n",
    "            if table[\"Player 2\"] not in participants:\n",
    "                participants.append(table[\"Player 1\"])\n",
    "\n",
    "    participants = [decklist_url.format(id) for id in participants if id is not None]\n",
    "\n",
    "    for url in participants:\n",
    "        page = requests.get(url)\n",
    "        soup = BeautifulSoup(page.text, \"html\")\n",
    "\n",
    "        output.append([data.text.strip() for data in soup.find_all(\"td\")])\n",
    "        \n",
    "    return output\n",
    "\n",
    "def decklist_to_df(decklists):\n",
    "    decklists = pd.DataFrame.from_records(decklists)\n",
    "    decklists.index = [re.search(r\"\\((\\d+)\", name).group(1) for name in decklists[0]]\n",
    "\n",
    "    participants = decklists.iloc[:,0:5].copy()\n",
    "    participants = participants.rename(columns={0:\"Name\", 1:\"Event Date\", 2:\"Event Name\", 3:\"Format\", 4:\"Hero\"})\n",
    "\n",
    "    decklists = decklists.drop([0,1,2,3,4], axis=1)\n",
    "\n",
    "    decklists = pd.melt(decklists, ignore_index=False, value_name=\"import name\")[\"import name\"].dropna().to_frame()\n",
    "\n",
    "    decklists[[\"Copies\",\"Card\"]] = decklists[\"import name\"].str.split(\" x \", expand=True)\n",
    "    decklists = decklists.drop(\"import name\", axis=1)\n",
    "\n",
    "    return participants, decklists"
   ]
  },
  {
   "cell_type": "code",
   "execution_count": null,
   "metadata": {},
   "outputs": [],
   "source": [
    "rounds = [number + 1 for number in range(18) if not 5 <= number <= 11]\n",
    "\n",
    "pt_london_2025_pairings = get_pairings(pt_london_2024_results, rounds)\n",
    "\n",
    "pairings = [[round, table, players[\"Player 1\"], players[\"Player 2\"], players[\"Winner\"]] for round, table in pt_london_2025_pairings.items() for table, players in table.items()]\n"
   ]
  },
  {
   "cell_type": "code",
   "execution_count": null,
   "metadata": {},
   "outputs": [],
   "source": [
    "tournament_lists = get_decklist(pt_london_2025_pairings, pt_london_2025_decklists)\n",
    "tournament_df = decklist_to_df(tournament_lists)\n",
    "\n",
    "participants = tournament_df[0]\n",
    "decklists = tournament_df[1]\n",
    "pairings = pd.DataFrame.from_records(pairings, columns=[\"Round\", \"Table\", \"Player 1\", \"Player 2\", \"Winner\"])"
   ]
  },
  {
   "cell_type": "code",
   "execution_count": 212,
   "metadata": {},
   "outputs": [],
   "source": [
    "excel_path = Path(\"PT London.xlsx\")\n",
    "\n",
    "with pd.ExcelWriter(excel_path) as writer:\n",
    "    participants.to_excel(writer, sheet_name=\"participants\")\n",
    "    decklists.to_excel(writer, sheet_name=\"decklists\")\n",
    "    pairings.to_excel(writer, sheet_name=\"pairings\")"
   ]
  }
 ],
 "metadata": {
  "kernelspec": {
   "display_name": "Python 3",
   "language": "python",
   "name": "python3"
  },
  "language_info": {
   "codemirror_mode": {
    "name": "ipython",
    "version": 3
   },
   "file_extension": ".py",
   "mimetype": "text/x-python",
   "name": "python",
   "nbconvert_exporter": "python",
   "pygments_lexer": "ipython3",
   "version": "3.11.1"
  }
 },
 "nbformat": 4,
 "nbformat_minor": 2
}
