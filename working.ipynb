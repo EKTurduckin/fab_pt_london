{
 "cells": [
  {
   "cell_type": "code",
   "execution_count": 123,
   "metadata": {},
   "outputs": [],
   "source": [
    "import pandas as pd\n",
    "import requests\n",
    "import sqlite3\n",
    "import re\n",
    "from bs4 import BeautifulSoup"
   ]
  },
  {
   "cell_type": "code",
   "execution_count": 111,
   "metadata": {},
   "outputs": [],
   "source": [
    "pt_london_2025_invited = \"https://fabtcg.com/en/coverage/pro-tour-london/pairings/1/\"\n",
    "pt_london_2025 = \"https://fabtcg.com/en/coverage/pro-tour-london/decklist/{}/\""
   ]
  },
  {
   "cell_type": "code",
   "execution_count": 223,
   "metadata": {},
   "outputs": [],
   "source": [
    "def get_player_list(url):\n",
    "    page = requests.get(url)\n",
    "    soup = BeautifulSoup(page.text, \"html\")\n",
    "\n",
    "    pairing = soup.find_all(\"div\", {\"class\":\"tournament-coverage__player-hero-and-deck\"})\n",
    "    decklist_urls = [re.search(r\"\\/decklist\\/(\\d+)\", url) for url in (str(url) for url in (player.find(\"a\") for player in pairing))]\n",
    "\n",
    "    output = [url.group(1) for url in decklist_urls if url is not None]\n",
    "\n",
    "    return output\n",
    "\n",
    "\n",
    "def get_decklist(url):\n",
    "    page = requests.get(url)\n",
    "    soup = BeautifulSoup(page.text, \"html\")\n",
    "\n",
    "    decklist = [data.text.strip() for data in soup.find_all(\"td\")]\n",
    "\n",
    "    return decklist"
   ]
  },
  {
   "cell_type": "code",
   "execution_count": null,
   "metadata": {},
   "outputs": [],
   "source": [
    "player_list = get_player_list(pt_london_2025_invited)\n",
    "tournament_lists = [get_decklist(pt_london_2025.format(player_id)) for player_id in player_list]"
   ]
  },
  {
   "cell_type": "code",
   "execution_count": 240,
   "metadata": {},
   "outputs": [],
   "source": [
    "tournament_lists_df = pd.DataFrame.from_records(tournament_lists)\n",
    "\n",
    "long_list = pd.melt(tournament_lists_df, id_vars=[0,1,2,3,4], value_name=\"cards\")\n",
    "long_list[[\"copies\",\"card\"]] = long_list[\"cards\"].str.split(\" x \", expand=True)\n",
    "\n",
    "long_list = long_list.drop([1, 2, 3, \"variable\", \"cards\"], axis=1).dropna()\n",
    "\n",
    "long_list.to_clipboard(index=False)"
   ]
  }
 ],
 "metadata": {
  "kernelspec": {
   "display_name": "Python 3",
   "language": "python",
   "name": "python3"
  },
  "language_info": {
   "codemirror_mode": {
    "name": "ipython",
    "version": 3
   },
   "file_extension": ".py",
   "mimetype": "text/x-python",
   "name": "python",
   "nbconvert_exporter": "python",
   "pygments_lexer": "ipython3",
   "version": "3.11.1"
  }
 },
 "nbformat": 4,
 "nbformat_minor": 2
}
